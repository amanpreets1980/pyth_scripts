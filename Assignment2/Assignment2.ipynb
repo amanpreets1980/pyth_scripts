{
 "cells": [
  {
   "cell_type": "markdown",
   "metadata": {},
   "source": [
    "#### Task 1 - 1.1 Write a Python Program to implement your own myreduce() function which works exactly like Python's built-in function reduce()"
   ]
  },
  {
   "cell_type": "code",
   "execution_count": 12,
   "metadata": {
    "scrolled": true
   },
   "outputs": [
    {
     "data": {
      "text/plain": [
       "134"
      ]
     },
     "execution_count": 12,
     "metadata": {},
     "output_type": "execute_result"
    }
   ],
   "source": [
    "def myreduce(myfunction, mylist):\n",
    "    result=0\n",
    "    for i in range(len(mylist)):\n",
    "        result = myfunction(result,mylist[i])\n",
    "    return result\n",
    "\n",
    "items=[1,2,3,4,5,9, 10, 11, 44, 45]\n",
    "sumOfList = myreduce(lambda x,y:x+y,items)\n",
    "sumOfList"
   ]
  },
  {
   "cell_type": "markdown",
   "metadata": {},
   "source": [
    "#### Task 1 - 1.2 Write a Python program to implement your own myfilter() function which works exactly like Python's built-in function filter()"
   ]
  },
  {
   "cell_type": "code",
   "execution_count": 5,
   "metadata": {},
   "outputs": [
    {
     "data": {
      "text/plain": [
       "[1, 2, 3, 4, 5, 9, 10, 11]"
      ]
     },
     "execution_count": 5,
     "metadata": {},
     "output_type": "execute_result"
    }
   ],
   "source": [
    "def myfilter(myfunction, mylist):\n",
    "    resultList=[] \n",
    "    for x in mylist:\n",
    "        result = myfunction(x)\n",
    "        if result == True:\n",
    "            resultList.append(x)\n",
    "    return resultList\n",
    "\n",
    "items=[1,2,3,4,5,9, 10, 11, 44, 45]\n",
    "morethanforty = list(myfilter(lambda x:x<40,items))\n",
    "morethanforty"
   ]
  },
  {
   "cell_type": "markdown",
   "metadata": {},
   "source": [
    "#### Task 1 - 2 Implement List comprehensions to produce the following lists.\n",
    "\n",
    "['A', 'C', 'A', 'D', 'G', 'I', ’L’, ‘ D’]\n",
    "\n",
    "['x', 'xx', 'xxx', 'xxxx', 'y', 'yy', 'yyy', 'yyyy', 'z', 'zz', 'zzz', 'zzzz']\n",
    "\n",
    "['x', 'y', 'z', 'xx', 'yy', 'zz', 'xx', 'yy', 'zz', 'xxxx', 'yyyy', 'zzzz']\n",
    "\n",
    "[[2], [3], [4], [3], [4], [5], [4], [5], [6]]\n",
    "\n",
    "[[2, 3, 4, 5], [3, 4, 5, 6], [4, 5, 6, 7], [5, 6, 7, 8]]\n",
    "\n",
    "[(1, 1), (2, 1), (3, 1), (1, 2), (2, 2), (3, 2), (1, 3), (2, 3), (3, 3)]\n"
   ]
  },
  {
   "cell_type": "code",
   "execution_count": 20,
   "metadata": {},
   "outputs": [
    {
     "name": "stdout",
     "output_type": "stream",
     "text": [
      "['A', 'C', 'A', 'D', 'G', 'I', 'L', 'D']\n",
      "['x', 'y', 'z', 'xx', 'yy', 'zz', 'xxx', 'yyy', 'zzz', 'xxxx', 'yyyy', 'zzzz']\n",
      "['x', 'xx', 'xxx', 'xxxx', 'y', 'yy', 'yyy', 'yyyy', 'z', 'zz', 'zzz', 'zzzz']\n",
      "[[2], [3], [4], [3], [4], [5], [4], [5], [6]]\n",
      "[[2, 3, 4, 5], [3, 4, 5, 6], [4, 5, 6, 7], [5, 6, 7, 8]]\n",
      "[(1, 1), (2, 1), (3, 1), (1, 2), (2, 2), (3, 2), (1, 3), (2, 3), (3, 3)]\n"
     ]
    }
   ],
   "source": [
    "str='ACADGILD'\n",
    "firstLetters=[letter for letter in str]\n",
    "print(firstLetters)\n",
    "xyzlist=['x','y','z']\n",
    "xyzStringList=[letter*i for i in range(1,5) for letter in xyzlist]\n",
    "print(xyzStringList)\n",
    "xyzStringList2=[letter*i for letter in xyzlist for i in range(1,5) ]\n",
    "print(xyzStringList2)\n",
    "num1=[[i+x] for x in range(3) for i in range(2,5) ]\n",
    "print(num1)\n",
    "num2=[[i+x for x in range(4)] for i in range(2,6) ]\n",
    "print(num2)\n",
    "num3=[(i,x) for x in range(1,4) for i in range(1,4) ]\n",
    "print(num3)\n"
   ]
  },
  {
   "cell_type": "markdown",
   "metadata": {},
   "source": [
    "#### Task 1 - 3. Implement a function longestWord() that takes a list of words and returns the longest one."
   ]
  },
  {
   "cell_type": "code",
   "execution_count": 17,
   "metadata": {
    "scrolled": true
   },
   "outputs": [
    {
     "data": {
      "text/plain": [
       "'crocodile'"
      ]
     },
     "execution_count": 17,
     "metadata": {},
     "output_type": "execute_result"
    }
   ],
   "source": [
    "import functools\n",
    "listOfWords=['horse','cat','crocodile']\n",
    "longestWord=functools.reduce(lambda x,y: x if len(x)>len(y) else y,listOfWords)\n",
    "longestWord\n"
   ]
  },
  {
   "cell_type": "markdown",
   "metadata": {},
   "source": [
    "#### Task 2- 1.1 Write a Python Program(with class concepts) to find the area of the triangle using the below formula. <br/><br/>                                area = (s*(s-a)*(s-b)*(s-c)) ** 0.5<br/><br/>                                                                                                                                                                Function to take the length of the sides of triangle from user should be defined in the parent class and function to calculate the area should be defined in subclass."
   ]
  },
  {
   "cell_type": "code",
   "execution_count": 31,
   "metadata": {
    "scrolled": false
   },
   "outputs": [
    {
     "name": "stdout",
     "output_type": "stream",
     "text": [
      "Please enter length of first side: 1\n",
      "Please enter length of second side: 1\n",
      "Please enter length of third side: 1\n",
      "Area of Triangle: 0.4330127018922193\n"
     ]
    }
   ],
   "source": [
    "import math\n",
    "\n",
    "class Shape:\n",
    "   \n",
    "    def getUserData(self):\n",
    "        self.a = int(input(\"Please enter length of first side: \"))\n",
    "        self.b = int(input(\"Please enter length of second side: \"))\n",
    "        self.c = int(input(\"Please enter length of third side: \"))\n",
    "    \n",
    "class Triangle(Shape):\n",
    "    \n",
    "    def calculateArea(self):\n",
    "        self.getUserData()\n",
    "        p=(self.a+self.b+self.c)/2\n",
    "        return math.sqrt(p*(p-self.a)*(p-self.b)*(p-self.c))\n",
    "\n",
    "areaTriangle=Triangle()\n",
    "area=areaTriangle.calculateArea()\n",
    "print('Area of Triangle: {}'.format(area))       "
   ]
  },
  {
   "cell_type": "markdown",
   "metadata": {},
   "source": [
    "#### Task 2 1.2 - Write a function filter_long_words() that takes a list of words and an integer n and returns the list of words that are longer than n."
   ]
  },
  {
   "cell_type": "code",
   "execution_count": 40,
   "metadata": {},
   "outputs": [
    {
     "name": "stdout",
     "output_type": "stream",
     "text": [
      "Please enter the list of comma separated words: car, hello, mobile\n",
      "Please enter the minimum number of letters: 5\n",
      "[' hello', ' mobile']\n"
     ]
    }
   ],
   "source": [
    "words=input('Please enter the list of comma separated words: ')\n",
    "listofWords=words.split(',')\n",
    "filterNumber=int(input('Please enter the minimum number of letters: '))\n",
    "filterLongWords=list(filter(lambda x: len(x)>=filterNumber, listofWords))\n",
    "print(filterLongWords)"
   ]
  },
  {
   "cell_type": "markdown",
   "metadata": {},
   "source": [
    "#### Task 2 2.1 Write a Python program using function concept that maps list of words into a list of integers representing the lengths of the corresponding words ."
   ]
  },
  {
   "cell_type": "code",
   "execution_count": 43,
   "metadata": {},
   "outputs": [
    {
     "name": "stdout",
     "output_type": "stream",
     "text": [
      "[3, 5, 6]\n"
     ]
    }
   ],
   "source": [
    "def getNumbersinList(lst):\n",
    "    return list(map(lambda x: len(x),lst))\n",
    "    \n",
    "listOfWords=['car','hello','mobile']\n",
    "mappedNumberofWords=getNumbersinList(listOfWords)\n",
    "print(mappedNumberofWords)"
   ]
  },
  {
   "cell_type": "markdown",
   "metadata": {},
   "source": [
    "#### Task 2 - 2.2 Write a Python function which takes a character (i.e. a string of length 1) and returns True if it is a vowel, False otherwise."
   ]
  },
  {
   "cell_type": "code",
   "execution_count": 46,
   "metadata": {},
   "outputs": [
    {
     "name": "stdout",
     "output_type": "stream",
     "text": [
      "Please enter one letter: a\n",
      "Its a vowel\n"
     ]
    }
   ],
   "source": [
    "def isVowel():\n",
    "    letter=input('Please enter one letter: ')\n",
    "    if letter in ['a','e','i','o','u']:\n",
    "        print('Its a vowel')\n",
    "    else:\n",
    "        print('Its a consonant')\n",
    "isVowel()"
   ]
  }
 ],
 "metadata": {
  "kernelspec": {
   "display_name": "Python 3",
   "language": "python",
   "name": "python3"
  },
  "language_info": {
   "codemirror_mode": {
    "name": "ipython",
    "version": 3
   },
   "file_extension": ".py",
   "mimetype": "text/x-python",
   "name": "python",
   "nbconvert_exporter": "python",
   "pygments_lexer": "ipython3",
   "version": "3.7.6"
  }
 },
 "nbformat": 4,
 "nbformat_minor": 4
}
