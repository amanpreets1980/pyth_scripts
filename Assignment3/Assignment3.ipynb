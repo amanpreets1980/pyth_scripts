{
 "cells": [
  {
   "cell_type": "code",
   "execution_count": 36,
   "metadata": {},
   "outputs": [
    {
     "name": "stdout",
     "output_type": "stream",
     "text": [
      "2.5\n",
      "Exception Message\n"
     ]
    }
   ],
   "source": [
    "def divideNumbers(a,b):\n",
    "    try:\n",
    "        print(a/b)\n",
    "    except Exception:\n",
    "        print('Exception Message')\n",
    "divideNumbers(5,2)\n",
    "divideNumbers(5,0)"
   ]
  },
  {
   "cell_type": "markdown",
   "metadata": {},
   "source": [
    "#### Task 1 - 2 : Implement a Python program to generate all sentences where subject is in [\"Americans\", \"Indians\"] and verb is in [\"Play\", \"watch\"] and the object is in [\"Baseball\",\"cricket\"]."
   ]
  },
  {
   "cell_type": "code",
   "execution_count": 7,
   "metadata": {},
   "outputs": [
    {
     "name": "stdout",
     "output_type": "stream",
     "text": [
      "['Americans Play Baseball', 'Americans Play cricket', 'Americans watch Baseball', 'Americans watch cricket', 'Indians Play Baseball', 'Indians Play cricket', 'Indians watch Baseball', 'Indians watch cricket']\n"
     ]
    }
   ],
   "source": [
    "subjectList = [\"Americans\", \"Indians\"] \n",
    "verbList = [\"Play\", \"watch\"] \n",
    "objectList = [\"Baseball\",\"cricket\"]\n",
    "senList=[]\n",
    "for sub in subjectList:\n",
    "    for verb in verbList:\n",
    "        for obj in objectList:\n",
    "            sen=sub +' '+verb+ ' ' + obj\n",
    "            senList.append(sen)\n",
    "print(senList)\n",
    "    "
   ]
  },
  {
   "cell_type": "markdown",
   "metadata": {},
   "source": [
    "#### Task 2: Write a function so that the columns of the output matrix are powers of the input vector.\n",
    "#### The order of the powers is determined by the increasing boolean argument. Specifically, when increasing is False, the i-th output column is the input vector raised element-wise to the power of N - i - 1."
   ]
  },
  {
   "cell_type": "code",
   "execution_count": 40,
   "metadata": {},
   "outputs": [
    {
     "name": "stdout",
     "output_type": "stream",
     "text": [
      "Enter the number n: 3\n",
      "[[1, 1, 1], [4, 2, 1], [9, 3, 1]]\n"
     ]
    }
   ],
   "source": [
    "n = int(input('Enter the number n: '))\n",
    "arr = []\n",
    "for i in range(1,n+1):\n",
    "    row=[]\n",
    "    for j in range(n+1,1,-1):\n",
    "        row.append(i**(j-2))\n",
    "    arr.append(row)\n",
    "print(arr)\n"
   ]
  },
  {
   "cell_type": "code",
   "execution_count": null,
   "metadata": {},
   "outputs": [],
   "source": []
  }
 ],
 "metadata": {
  "kernelspec": {
   "display_name": "Python 3",
   "language": "python",
   "name": "python3"
  },
  "language_info": {
   "codemirror_mode": {
    "name": "ipython",
    "version": 3
   },
   "file_extension": ".py",
   "mimetype": "text/x-python",
   "name": "python",
   "nbconvert_exporter": "python",
   "pygments_lexer": "ipython3",
   "version": "3.7.6"
  }
 },
 "nbformat": 4,
 "nbformat_minor": 4
}
